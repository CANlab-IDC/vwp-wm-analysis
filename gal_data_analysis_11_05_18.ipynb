{
 "cells": [
  {
   "cell_type": "code",
   "execution_count": 8,
   "metadata": {},
   "outputs": [
    {
     "ename": "ERROR",
     "evalue": "Error in parse(text = x, srcfile = src): <text>:1:1: unexpected input\n1: %matplotlib\n    ^\n",
     "output_type": "error",
     "traceback": [
      "Error in parse(text = x, srcfile = src): <text>:1:1: unexpected input\n1: %matplotlib\n    ^\nTraceback:\n"
     ]
    }
   ],
   "source": [
    "%matplotlib"
   ]
  },
  {
   "cell_type": "markdown",
   "metadata": {},
   "source": [
    "### Setup\n",
    "If you have not done so yet, run the next cell to install the needed packages. On running the notebook subsequent times, you will only need to run the cell with the `library(<lib_name>)` commands."
   ]
  },
  {
   "cell_type": "code",
   "execution_count": null,
   "metadata": {},
   "outputs": [],
   "source": [
    "install.packages('lme4')\n",
    "install.packages('nloptr')\n",
    "install.packages('Hmisc')\n",
    "install.packages('ggplot2')\n",
    "install.packages('scales')"
   ]
  },
  {
   "cell_type": "code",
   "execution_count": 2,
   "metadata": {},
   "outputs": [
    {
     "name": "stderr",
     "output_type": "stream",
     "text": [
      "Loading required package: dplyr\n",
      "\n",
      "Attaching package: ‘dplyr’\n",
      "\n",
      "The following objects are masked from ‘package:Hmisc’:\n",
      "\n",
      "    src, summarize\n",
      "\n",
      "The following objects are masked from ‘package:stats’:\n",
      "\n",
      "    filter, lag\n",
      "\n",
      "The following objects are masked from ‘package:base’:\n",
      "\n",
      "    intersect, setdiff, setequal, union\n",
      "\n",
      "This is VWPre version 1.1.0. \n",
      "For an overview of the package, type 'help(package=\"VWPre\")'.\n",
      "IMPORTANT CHANGES - See NEWS.\n"
     ]
    }
   ],
   "source": [
    "library(lme4)\n",
    "library(nloptr)\n",
    "library(Hmisc)\n",
    "library(ggplot2)\n",
    "library(scales)\n",
    "library(VWPre)"
   ]
  },
  {
   "cell_type": "markdown",
   "metadata": {},
   "source": [
    "### Import data\n",
    "\n",
    "Set the `data_path` variable below to the path you want to import"
   ]
  },
  {
   "cell_type": "code",
   "execution_count": 4,
   "metadata": {},
   "outputs": [],
   "source": [
    "data_path <- \"gal_data_7_2_18.csv\""
   ]
  },
  {
   "cell_type": "code",
   "execution_count": 5,
   "metadata": {},
   "outputs": [],
   "source": [
    "raw_data <- read.csv(data_path, header = T, sep = \",\", dec = \".\");"
   ]
  },
  {
   "cell_type": "code",
   "execution_count": 7,
   "metadata": {},
   "outputs": [
    {
     "data": {
      "text/plain": [
       "    subject        TimeLocked        Avg_target     Avg_distractor   \n",
       " Min.   :302.0   Min.   :-1272.0   Min.   :0.0000   Min.   :0.00000  \n",
       " 1st Qu.:319.0   1st Qu.: -108.0   1st Qu.:0.1429   1st Qu.:0.00000  \n",
       " Median :333.0   Median :  960.0   Median :0.5455   Median :0.00000  \n",
       " Mean   :333.8   Mean   :  959.1   Mean   :0.5147   Mean   :0.06977  \n",
       " 3rd Qu.:349.0   3rd Qu.: 2024.0   3rd Qu.:0.8750   3rd Qu.:0.12500  \n",
       " Max.   :364.0   Max.   : 3180.0   Max.   :1.0000   Max.   :1.00000  \n",
       "  fillers_avg           load       Quiet1_Noise2     C1_R2      \n",
       " Min.   :0.00000   Min.   :1.000   Min.   :1.0   Min.   :1.000  \n",
       " 1st Qu.:0.00000   1st Qu.:1.000   1st Qu.:1.0   1st Qu.:1.000  \n",
       " Median :0.03125   Median :1.000   Median :1.0   Median :2.000  \n",
       " Mean   :0.06349   Mean   :2.497   Mean   :1.5   Mean   :1.508  \n",
       " 3rd Qu.:0.10714   3rd Qu.:4.000   3rd Qu.:2.0   3rd Qu.:2.000  \n",
       " Max.   :0.50000   Max.   :4.000   Max.   :2.0   Max.   :2.000  \n",
       "  Wmspan_1L_2H  \n",
       " Min.   :1.000  \n",
       " 1st Qu.:1.000  \n",
       " Median :2.000  \n",
       " Mean   :1.511  \n",
       " 3rd Qu.:2.000  \n",
       " Max.   :2.000  "
      ]
     },
     "metadata": {},
     "output_type": "display_data"
    }
   ],
   "source": [
    "summary(raw_data)"
   ]
  },
  {
   "cell_type": "code",
   "execution_count": 14,
   "metadata": {},
   "outputs": [
    {
     "data": {
      "text/html": [
       "49"
      ],
      "text/latex": [
       "49"
      ],
      "text/markdown": [
       "49"
      ],
      "text/plain": [
       "[1] 49"
      ]
     },
     "metadata": {},
     "output_type": "display_data"
    }
   ],
   "source": [
    "length(unique(raw_data$subject))"
   ]
  },
  {
   "cell_type": "code",
   "execution_count": 32,
   "metadata": {},
   "outputs": [],
   "source": [
    "sub_time_unq <- apply(raw_data[,c('subject','TimeLocked')], 1, function(x) cat(x['subject'],x['TimeLocked']))"
   ]
  },
  {
   "cell_type": "code",
   "execution_count": 31,
   "metadata": {},
   "outputs": [
    {
     "name": "stderr",
     "output_type": "stream",
     "text": [
      "ERROR while rich displaying an object: Error in sprintf(wrap, header, body): 'fmt' length exceeds maximal format length 8192\n",
      "\n",
      "Traceback:\n",
      "1. FUN(X[[i]], ...)\n",
      "2. tryCatch(withCallingHandlers({\n",
      " .     rpr <- mime2repr[[mime]](obj)\n",
      " .     if (is.null(rpr)) \n",
      " .         return(NULL)\n",
      " .     prepare_content(is.raw(rpr), rpr)\n",
      " . }, error = error_handler), error = outer_handler)\n",
      "3. tryCatchList(expr, classes, parentenv, handlers)\n",
      "4. tryCatchOne(expr, names, parentenv, handlers[[1L]])\n",
      "5. doTryCatch(return(expr), name, parentenv, handler)\n",
      "6. withCallingHandlers({\n",
      " .     rpr <- mime2repr[[mime]](obj)\n",
      " .     if (is.null(rpr)) \n",
      " .         return(NULL)\n",
      " .     prepare_content(is.raw(rpr), rpr)\n",
      " . }, error = error_handler)\n",
      "7. mime2repr[[mime]](obj)\n",
      "8. repr_latex.matrix(obj)\n",
      "9. repr_matrix_generic(obj, sprintf(\"\\\\begin{tabular}{%s}\\n%%s%%s\\\\end{tabular}\\n\", \n",
      " .     cols), \"%s\\\\\\\\\\n\\\\hline\\n\", \"  &\", \" %s &\", \"%s\", \"\\t%s\\\\\\\\\\n\", \n",
      " .     \"%s &\", \" %s &\", escape_fun = latex_escape_vec, ...)\n",
      "10. sprintf(wrap, header, body)\n"
     ]
    },
    {
     "data": {
      "text/html": [
       "<table>\n",
       "<tbody>\n",
       "\t<tr><th scope=row>subject</th><td>  302</td><td>  302</td><td>  302</td><td>  302</td><td>  302</td><td>  302</td><td>  302</td><td>  302</td><td>  302</td><td>  302</td><td>⋯    </td><td> 364 </td><td> 364 </td><td> 364 </td><td> 364 </td><td> 364 </td><td> 364 </td><td> 364 </td><td> 364 </td><td> 364 </td><td> 364 </td></tr>\n",
       "\t<tr><th scope=row>TimeLocked</th><td>-1116</td><td>-1116</td><td>-1112</td><td>-1112</td><td>-1108</td><td>-1108</td><td>-1104</td><td>-1104</td><td>-1100</td><td>-1100</td><td>⋯    </td><td>3060 </td><td>3060 </td><td>3064 </td><td>3064 </td><td>3068 </td><td>3068 </td><td>3072 </td><td>3072 </td><td>3076 </td><td>3076 </td></tr>\n",
       "</tbody>\n",
       "</table>\n"
      ],
      "text/markdown": [
       "\n",
       "| subject |   302 |   302 |   302 |   302 |   302 |   302 |   302 |   302 |   302 |   302 | ⋯     |  364  |  364  |  364  |  364  |  364  |  364  |  364  |  364  |  364  |  364  | \n",
       "| TimeLocked | -1116 | -1116 | -1112 | -1112 | -1108 | -1108 | -1104 | -1104 | -1100 | -1100 | ⋯     | 3060  | 3060  | 3064  | 3064  | 3068  | 3068  | 3072  | 3072  | 3076  | 3076  | \n",
       "\n",
       "\n"
      ],
      "text/plain": [
       "           [,1]  [,2]  [,3]  [,4]  [,5]  [,6]  [,7]  [,8]  [,9]  [,10] [,11]\n",
       "subject      302   302   302   302   302   302   302   302   302   302 ⋯    \n",
       "TimeLocked -1116 -1116 -1112 -1112 -1108 -1108 -1104 -1104 -1100 -1100 ⋯    \n",
       "           [,12] [,13] [,14] [,15] [,16] [,17] [,18] [,19] [,20] [,21]\n",
       "subject     364   364   364   364   364   364   364   364   364   364 \n",
       "TimeLocked 3060  3060  3064  3064  3068  3068  3072  3072  3076  3076 "
      ]
     },
     "metadata": {},
     "output_type": "display_data"
    }
   ],
   "source": [
    "sub_time_unq"
   ]
  },
  {
   "cell_type": "code",
   "execution_count": null,
   "metadata": {},
   "outputs": [],
   "source": []
  }
 ],
 "metadata": {
  "kernelspec": {
   "display_name": "R",
   "language": "R",
   "name": "ir"
  },
  "language_info": {
   "codemirror_mode": "r",
   "file_extension": ".r",
   "mimetype": "text/x-r-source",
   "name": "R",
   "pygments_lexer": "r",
   "version": "3.4.4"
  }
 },
 "nbformat": 4,
 "nbformat_minor": 2
}
